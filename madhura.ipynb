{
  "nbformat": 4,
  "nbformat_minor": 0,
  "metadata": {
    "colab": {
      "provenance": []
    },
    "kernelspec": {
      "name": "python3",
      "display_name": "Python 3"
    },
    "language_info": {
      "name": "python"
    }
  },
  "cells": [
    {
      "cell_type": "markdown",
      "source": [
        "1.**What are the key features of Python?**"
      ],
      "metadata": {
        "id": "cJ_UeRYokrjM"
      }
    },
    {
      "cell_type": "markdown",
      "source": [
        "ANS_\n",
        "Key Features of Python: Python is known for its simplicity and readability, using an elegant syntax that emphasizes code readability. It's an interpreted language, executing code line-by-line without needing compilation. Python supports multiple programming paradigms, including procedural, object-oriented, and functional programming. It has a comprehensive standard library and dynamic typing, which means variable types are inferred automatically. Python is also portable, running on various platforms, and is open-source with a vibrant community."
      ],
      "metadata": {
        "id": "Q_0cZM6FlKLS"
      }
    },
    {
      "cell_type": "markdown",
      "source": [
        "2.** What are the Data Types in Python?**"
      ],
      "metadata": {
        "id": "jn8tNEuRlM9G"
      }
    },
    {
      "cell_type": "markdown",
      "source": [
        "Ans_\n",
        "Python includes numeric types (integers, floats, complex numbers), text type (strings), Boolean (True/False), sequence types (lists, tuples, ranges), mapping type (dictionaries), set types (sets, frozensets), binary types (bytes, bytearrays), and the NoneType for representing absence of value."
      ],
      "metadata": {
        "id": "826ojZw8lbQW"
      }
    },
    {
      "cell_type": "markdown",
      "source": [
        "3. **What are local variables and global variables in Python?**"
      ],
      "metadata": {
        "id": "sN42_CRSli1c"
      }
    },
    {
      "cell_type": "markdown",
      "source": [
        "Local vs Global Variables: Local variables are declared inside a function and are accessible only within that function. Global variables are declared outside functions and can be accessed throughout the program. To modify a global variable inside a function, the global keyword must be used."
      ],
      "metadata": {
        "id": "AluAAVX0lodP"
      }
    },
    {
      "cell_type": "markdown",
      "source": [
        "4. **How do you write comments in python? And Why Comments are important?**"
      ],
      "metadata": {
        "id": "K74h-WfQluf2"
      }
    },
    {
      "cell_type": "markdown",
      "source": [
        "Comments in Python: Single-line comments start with #. Multi-line comments can use triple quotes \"\"\" but are technically strings. Comments are crucial for explaining code logic, improving readability, and aiding maintenance and collaboration."
      ],
      "metadata": {
        "id": "aTtFlcRjl01c"
      }
    },
    {
      "cell_type": "markdown",
      "source": [
        "5. **How to comment on multiple lines in python?**"
      ],
      "metadata": {
        "id": "lCZcgSx4l-qO"
      }
    },
    {
      "cell_type": "markdown",
      "source": [
        "Multi-line Comments: Use # for each line or triple quotes \"\"\" (though the latter creates a string). The standard practice is to use # for each line.\n",
        "\n"
      ],
      "metadata": {
        "id": "KpPnEqs8mDFr"
      }
    },
    {
      "cell_type": "markdown",
      "source": [
        "6.** What do you mean by Python literals**"
      ],
      "metadata": {
        "id": "LCnFelSBmG2L"
      }
    },
    {
      "cell_type": "markdown",
      "source": [
        "Python Literals: Literals are raw data values. Examples include integers (5), floats (3.14), strings (\"hello\"), Booleans (True), lists ([1, 2]), tuples ((1, 2)), dictionaries ({'a': 1}), and None."
      ],
      "metadata": {
        "id": "CVy1_pbimVMz"
      }
    },
    {
      "cell_type": "markdown",
      "source": [
        "7. What are different ways to assign value to variables?"
      ],
      "metadata": {
        "id": "kmBi1XvImr0Y"
      }
    },
    {
      "cell_type": "markdown",
      "source": [
        "Assigning Values: Variables can be assigned directly (x = 5), in parallel (x, y = 1, 2), via unpacking (x, y = [1, 2]), or using expressions (x = sum([1,2]))."
      ],
      "metadata": {
        "id": "Ent0lWLPmwr5"
      }
    },
    {
      "cell_type": "markdown",
      "source": [
        "8. **What are the Escape Characters in python?**"
      ],
      "metadata": {
        "id": "SN1s6121m9zS"
      }
    },
    {
      "cell_type": "markdown",
      "source": [
        "Ans_\n",
        "Escape Characters: Escape sequences start with \\, like \\n (newline), \\t (tab), \\\\ (backslash), \\\" (double quote), and \\’ (single quote)."
      ],
      "metadata": {
        "id": "LJRgt6IAm9R-"
      }
    },
    {
      "cell_type": "markdown",
      "source": [
        "9. **Which are the different ways to perform string formatting?** Explain with\n",
        "example"
      ],
      "metadata": {
        "id": "YED9CuFSnKbT"
      }
    },
    {
      "cell_type": "markdown",
      "source": [
        "String Formatting:\n",
        "\n",
        "% Operator: \"Hello %s\" % name\n",
        "\n",
        "str.format(): \"Hello {}\".format(name)\n",
        "\n",
        "f-strings: f\"Hello {name}\"\n",
        "Example:"
      ],
      "metadata": {
        "id": "eJSkl1Q-nfJ1"
      }
    },
    {
      "cell_type": "code",
      "source": [
        "name = \"madhura\"\n",
        "print(f\"Hello {name}!\")"
      ],
      "metadata": {
        "colab": {
          "base_uri": "https://localhost:8080/"
        },
        "id": "t1CPXTbCnlaA",
        "outputId": "b0a5c281-3675-4cba-daf1-93484ca5e59f"
      },
      "execution_count": 1,
      "outputs": [
        {
          "output_type": "stream",
          "name": "stdout",
          "text": [
            "Hello madhura!\n"
          ]
        }
      ]
    },
    {
      "cell_type": "markdown",
      "source": [
        "10. Write a program to print every character of a string entered by the user in a\n",
        "new line using a loop"
      ],
      "metadata": {
        "id": "hUKs9SQKn3nJ"
      }
    },
    {
      "cell_type": "code",
      "source": [
        " #Print each character in a new line\n",
        "string = input(\"Enter a string: \")\n",
        "for char in string:\n",
        "    print(char)"
      ],
      "metadata": {
        "colab": {
          "base_uri": "https://localhost:8080/"
        },
        "id": "bXtBpkwaobuD",
        "outputId": "fc7c0291-2028-4782-915d-67c2b3259170"
      },
      "execution_count": 2,
      "outputs": [
        {
          "output_type": "stream",
          "name": "stdout",
          "text": [
            "Enter a string: madhura\n",
            "m\n",
            "a\n",
            "d\n",
            "h\n",
            "u\n",
            "r\n",
            "a\n"
          ]
        }
      ]
    },
    {
      "cell_type": "markdown",
      "source": [
        "11. Write a program to find the length of the string \"machine learning\" with and\n",
        "without using len function."
      ],
      "metadata": {
        "id": "c0fI8MoupGiN"
      }
    },
    {
      "cell_type": "code",
      "source": [
        " #String length with and without len()\n",
        "s = \"machine learning\"\n",
        "print(\"With len():\", len(s))\n",
        "count = 0\n",
        "for _ in s:\n",
        "    count += 1\n",
        "print(\"Without len():\", count)"
      ],
      "metadata": {
        "colab": {
          "base_uri": "https://localhost:8080/"
        },
        "id": "5XUK0XuipIIR",
        "outputId": "d07ff062-00e8-4e5f-989a-749a0d8d6cd7"
      },
      "execution_count": 3,
      "outputs": [
        {
          "output_type": "stream",
          "name": "stdout",
          "text": [
            "With len(): 16\n",
            "Without len(): 16\n"
          ]
        }
      ]
    },
    {
      "cell_type": "markdown",
      "source": [
        "12. 12. Write a program to check if the word 'orange' is present in the \"This is orange\n",
        "juice\"."
      ],
      "metadata": {
        "id": "usf6zdElpP6t"
      }
    },
    {
      "cell_type": "code",
      "source": [
        " #Check for 'orange' in string\n",
        "s = \"This is orange juice\"\n",
        "print(\"Found 'orange':\", 'orange' in s)"
      ],
      "metadata": {
        "colab": {
          "base_uri": "https://localhost:8080/"
        },
        "id": "VzUgN1xypUfx",
        "outputId": "de59bd23-b744-4f3e-d816-c79295c6b1ae"
      },
      "execution_count": 4,
      "outputs": [
        {
          "output_type": "stream",
          "name": "stdout",
          "text": [
            "Found 'orange': True\n"
          ]
        }
      ]
    },
    {
      "cell_type": "markdown",
      "source": [
        "13. 13. Write a program to find the number of vowels, consonants, digits, and white\n",
        "space characters in a string"
      ],
      "metadata": {
        "id": "zYAqju1spapS"
      }
    },
    {
      "cell_type": "code",
      "source": [
        "#Count vowels, consonants, digits, whitespace\n",
        "s = input(\"Enter string: \")\n",
        "vowels = consonants = digits = whitespace = 0\n",
        "for c in s:\n",
        "    if c.lower() in 'aeiou':\n",
        "        vowels += 1\n",
        "    elif c.isalpha():\n",
        "        consonants += 1\n",
        "    elif c.isdigit():\n",
        "        digits += 1\n",
        "    elif c.isspace():\n",
        "        whitespace += 1\n",
        "print(f\"Vowels: {vowels}, Consonants: {consonants}, Digits: {digits}, Whitespace: {whitespace}\")"
      ],
      "metadata": {
        "colab": {
          "base_uri": "https://localhost:8080/"
        },
        "id": "Ld3a0AXCpszd",
        "outputId": "bbe563ea-8282-42de-a68d-e6f3b6ada1f9"
      },
      "execution_count": 5,
      "outputs": [
        {
          "output_type": "stream",
          "name": "stdout",
          "text": [
            "Enter string: madhura1996\n",
            "Vowels: 3, Consonants: 4, Digits: 4, Whitespace: 0\n"
          ]
        }
      ]
    },
    {
      "cell_type": "markdown",
      "source": [
        "14. Write a Python program to count Uppercase, Lowercase, special character,\n",
        "and numeric values in a given string."
      ],
      "metadata": {
        "id": "UKmtEpJoqPqy"
      }
    },
    {
      "cell_type": "code",
      "source": [
        " #Count uppercase, lowercase, numeric, special\n",
        "s = input(\"Enter string: \")\n",
        "upper = lower = numeric = special = 0\n",
        "for c in s:\n",
        "    if c.isupper():\n",
        "        upper += 1\n",
        "    elif c.islower():\n",
        "        lower += 1\n",
        "    elif c.isdigit():\n",
        "        numeric += 1\n",
        "    else:\n",
        "        special += 1\n",
        "print(f\"Upper: {upper}, Lower: {lower}, Numeric: {numeric}, Special: {special}\")"
      ],
      "metadata": {
        "colab": {
          "base_uri": "https://localhost:8080/"
        },
        "id": "78LXgobwqcwP",
        "outputId": "47c464de-686b-4f0d-ea41-3a8d2eec972a"
      },
      "execution_count": 6,
      "outputs": [
        {
          "output_type": "stream",
          "name": "stdout",
          "text": [
            "Enter string: Madhura@1996\n",
            "Upper: 1, Lower: 6, Numeric: 4, Special: 1\n"
          ]
        }
      ]
    },
    {
      "cell_type": "markdown",
      "source": [
        "15. Write a program to make a new string with all the consonants deleted from the\n",
        "string \"Hello, have a good day\"."
      ],
      "metadata": {
        "id": "am7V8zhzq_lO"
      }
    },
    {
      "cell_type": "code",
      "source": [
        "#Remove consonants from string\n",
        "s = \"Hello, have a good day\"\n",
        "new_str = ''.join([c for c in s if c.lower() in 'aeiou' or not c.isalpha()])\n",
        "print(\"New string:\", new_str)"
      ],
      "metadata": {
        "colab": {
          "base_uri": "https://localhost:8080/"
        },
        "id": "oz-r8hGgr3Ik",
        "outputId": "f46e1782-350d-4394-c6da-550d83ed203d"
      },
      "execution_count": 8,
      "outputs": [
        {
          "output_type": "stream",
          "name": "stdout",
          "text": [
            "New string: eo, ae a oo a\n"
          ]
        }
      ]
    },
    {
      "cell_type": "markdown",
      "source": [
        "16. Write a Python program to remove the nth index character from a non-empty string."
      ],
      "metadata": {
        "id": "Dg320YPcr_Ku"
      }
    },
    {
      "cell_type": "code",
      "source": [
        " #Remove nth index character\n",
        "def remove_nth_char(s, n):\n",
        "    return s[:n] + s[n+1:] if 0 <= n < len(s) else s\n",
        "s = input(\"Enter string: \")\n",
        "n = int(input(\"Enter index: \"))\n",
        "print(\"Result:\", remove_nth_char(s, n))"
      ],
      "metadata": {
        "colab": {
          "base_uri": "https://localhost:8080/"
        },
        "id": "oxFemcRNsQQ3",
        "outputId": "a24b29cf-45e3-4f43-f258-1e22fa037cb6"
      },
      "execution_count": 9,
      "outputs": [
        {
          "output_type": "stream",
          "name": "stdout",
          "text": [
            "Enter string: programming\n",
            "Enter index: 4\n",
            "Result: progamming\n"
          ]
        }
      ]
    },
    {
      "cell_type": "markdown",
      "source": [
        "17. **Write a Python program to change a given string to a new string where the first and last characters have been exchanged.**"
      ],
      "metadata": {
        "id": "RLPT8eVttWTx"
      }
    },
    {
      "cell_type": "code",
      "source": [
        " #Swap first and last characters\n",
        "def swap_first_last(s):\n",
        "    return s[-1] + s[1:-1] + s[0] if len(s) > 1 else s\n",
        "s = input(\"Enter string: \")\n",
        "print(\"Swapped:\", swap_first_last(s))"
      ],
      "metadata": {
        "colab": {
          "base_uri": "https://localhost:8080/"
        },
        "id": "GfOcnpuztr7Z",
        "outputId": "b3c3604d-7ced-4ff4-fc32-055c597e3e97"
      },
      "execution_count": 10,
      "outputs": [
        {
          "output_type": "stream",
          "name": "stdout",
          "text": [
            "Enter string: hello\n",
            "Swapped: oellh\n"
          ]
        }
      ]
    },
    {
      "cell_type": "markdown",
      "source": [
        "18. Write a Python program to count the occurrences of each word in a given\n",
        "sentence."
      ],
      "metadata": {
        "id": "2zIMMuQCuQDc"
      }
    },
    {
      "cell_type": "code",
      "source": [
        " #Count word occurrences\n",
        "sentence = input(\"Enter sentence: \")\n",
        "words = sentence.split()\n",
        "counts = {}\n",
        "for word in words:\n",
        "    counts[word] = counts.get(word, 0) + 1\n",
        "print(\"Word counts:\", counts)\n"
      ],
      "metadata": {
        "colab": {
          "base_uri": "https://localhost:8080/"
        },
        "id": "OOd31kHGucvV",
        "outputId": "10bd2c9f-ef94-479d-a901-1d4c10bc8c82"
      },
      "execution_count": 11,
      "outputs": [
        {
          "output_type": "stream",
          "name": "stdout",
          "text": [
            "Enter sentence: hello hello\n",
            "Word counts: {'hello': 2}\n"
          ]
        }
      ]
    },
    {
      "cell_type": "markdown",
      "source": [
        "19. How do you count the occurrence of a given character in a string?"
      ],
      "metadata": {
        "id": "gjw_nMWuvEEO"
      }
    },
    {
      "cell_type": "code",
      "source": [
        " #Count character occurrence\n",
        "s = input(\"Enter string: \")\n",
        "char = input(\"Enter character: \")\n",
        "print(f\"'{char}' appears {s.count(char)} times\")\n"
      ],
      "metadata": {
        "colab": {
          "base_uri": "https://localhost:8080/"
        },
        "id": "g6sbc02jvGvs",
        "outputId": "1310aa9d-f93a-4bba-aff6-c08408e2e605"
      },
      "execution_count": 12,
      "outputs": [
        {
          "output_type": "stream",
          "name": "stdout",
          "text": [
            "Enter string: Python is fun\n",
            "Enter character: z\n",
            "'z' appears 0 times\n"
          ]
        }
      ]
    },
    {
      "cell_type": "markdown",
      "source": [
        "20. **Write a program to find last 10 characters of a string?**"
      ],
      "metadata": {
        "id": "491_NAE-v63t"
      }
    },
    {
      "cell_type": "code",
      "source": [
        " #Last 10 characters of a string\n",
        "s = input(\"Enter string: \")\n",
        "print(\"Last 10 chars:\", s[-10:])\n"
      ],
      "metadata": {
        "colab": {
          "base_uri": "https://localhost:8080/"
        },
        "id": "JFDqJvm1wA9L",
        "outputId": "5ea3de47-997e-412a-96c2-77dd95d917ec"
      },
      "execution_count": 13,
      "outputs": [
        {
          "output_type": "stream",
          "name": "stdout",
          "text": [
            "Enter string: good morning\n",
            "Last 10 chars: od morning\n"
          ]
        }
      ]
    },
    {
      "cell_type": "markdown",
      "source": [
        "21. WAP to convert a given string to all uppercase if it contains at least 2\n",
        "uppercase characters in the first 4 characters."
      ],
      "metadata": {
        "id": "u_Qtrso_wM7s"
      }
    },
    {
      "cell_type": "code",
      "source": [
        "#Convert to uppercase if condition met\n",
        "s = input(\"Enter string: \")\n",
        "first_4 = s[:4]\n",
        "upper_count = sum(1 for c in first_4 if c.isupper())\n",
        "print(s.upper() if upper_count >= 2 else s)"
      ],
      "metadata": {
        "colab": {
          "base_uri": "https://localhost:8080/"
        },
        "id": "ZJqMopN7w9dA",
        "outputId": "8e702374-8712-4b02-e1ce-0305775f381e"
      },
      "execution_count": 16,
      "outputs": [
        {
          "output_type": "stream",
          "name": "stdout",
          "text": [
            "Enter string: python\n",
            "python\n"
          ]
        }
      ]
    },
    {
      "cell_type": "code",
      "source": [],
      "metadata": {
        "id": "_IG1IzZ7xMxJ"
      },
      "execution_count": null,
      "outputs": []
    }
  ]
}