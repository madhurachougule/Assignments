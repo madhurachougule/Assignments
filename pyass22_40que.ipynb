{
  "nbformat": 4,
  "nbformat_minor": 0,
  "metadata": {
    "colab": {
      "provenance": [],
      "authorship_tag": "ABX9TyPKtwjWD14JgRMkQ3XoF6aN",
      "include_colab_link": true
    },
    "kernelspec": {
      "name": "python3",
      "display_name": "Python 3"
    },
    "language_info": {
      "name": "python"
    }
  },
  "cells": [
    {
      "cell_type": "markdown",
      "metadata": {
        "id": "view-in-github",
        "colab_type": "text"
      },
      "source": [
        "<a href=\"https://colab.research.google.com/github/madhurachougule/Assignments/blob/main/pyass22_40que.ipynb\" target=\"_parent\"><img src=\"https://colab.research.google.com/assets/colab-badge.svg\" alt=\"Open In Colab\"/></a>"
      ]
    },
    {
      "cell_type": "markdown",
      "source": [
        "22.Write a Python program to remove a newline in Python"
      ],
      "metadata": {
        "id": "C5S_6SLlkNyq"
      }
    },
    {
      "cell_type": "code",
      "execution_count": null,
      "metadata": {
        "colab": {
          "base_uri": "https://localhost:8080/"
        },
        "id": "1SZmzWbZjEFj",
        "outputId": "71986cbd-f08a-4cdc-8f50-2f7d13ba721a"
      },
      "outputs": [
        {
          "output_type": "stream",
          "name": "stdout",
          "text": [
            "Original text: 'Good\\nMorning\\n'\n",
            "After removing newlines: 'GoodMorning'\n"
          ]
        }
      ],
      "source": [
        "def remove_newline(text):\n",
        "    return text.replace('\\n', '')\n",
        "sample_text = \"Good\\nMorning\\n\"\n",
        "result = remove_newline(sample_text)\n",
        "print(\"Original text:\", repr(sample_text))\n",
        "print(\"After removing newlines:\", repr(result))"
      ]
    },
    {
      "cell_type": "markdown",
      "source": [
        "23.Write a Python program to swap commas and dots in a string\n",
        "○ Sample string: \"32.054,23\"\n",
        "○ Expected Output: \"32,054.23\""
      ],
      "metadata": {
        "id": "s9JEU1uRkT_0"
      }
    },
    {
      "cell_type": "code",
      "source": [
        "def swap_commas_dots(s):\n",
        "    return s.translate(str.maketrans('.,', ',.'))\n",
        "sample_string = \"32.054,23\"\n",
        "result = swap_commas_dots(sample_string)\n",
        "print(\"Original:\", sample_string)\n",
        "print(\"Modified:\", result)"
      ],
      "metadata": {
        "colab": {
          "base_uri": "https://localhost:8080/"
        },
        "id": "WWs2p2KGkTRL",
        "outputId": "2f046b7f-055b-476b-8251-7511c9812641"
      },
      "execution_count": null,
      "outputs": [
        {
          "output_type": "stream",
          "name": "stdout",
          "text": [
            "Original: 32.054,23\n",
            "Modified: 32,054.23\n"
          ]
        }
      ]
    },
    {
      "cell_type": "markdown",
      "source": [
        "24.Write a Python program to find the first repeated character in a given string"
      ],
      "metadata": {
        "id": "iS4yp45ok6Ll"
      }
    },
    {
      "cell_type": "code",
      "source": [
        "def first_repeated_char(s):\n",
        "    seen = set()\n",
        "    for char in s:\n",
        "        if char in seen:\n",
        "            return char\n",
        "        seen.add(char)\n",
        "    return None\n",
        "test_string = \"abccb\"\n",
        "result = first_repeated_char(test_string)\n",
        "print(f\"First repeated character in '{test_string}': {result}\")\n",
        "print(first_repeated_char(\"python\"))\n",
        "print(first_repeated_char(\"aabbcc\"))\n",
        "print(first_repeated_char(\"abcABC\"))"
      ],
      "metadata": {
        "id": "kTEcPqSRlWIl",
        "colab": {
          "base_uri": "https://localhost:8080/"
        },
        "outputId": "c73052aa-5b08-4605-f289-5feee794d3a6"
      },
      "execution_count": null,
      "outputs": [
        {
          "output_type": "stream",
          "name": "stdout",
          "text": [
            "First repeated character in 'abccb': c\n",
            "None\n",
            "a\n",
            "None\n"
          ]
        }
      ]
    },
    {
      "cell_type": "markdown",
      "source": [
        "25. write a Python program to find the second most repeated word in a given\n",
        "string"
      ],
      "metadata": {
        "id": "clLUf3ooPp2B"
      }
    },
    {
      "cell_type": "code",
      "source": [
        "from collections import defaultdict\n",
        "def second_most_repeated_word(s):\n",
        "    word_count = defaultdict(int)\n",
        "    words = s.split()\n",
        "    for word in words:\n",
        "        word_count[word] += 1\n",
        "    sorted_words = sorted(word_count.items(), key=lambda x: x[1], reverse=True)\n",
        "    if len(sorted_words) >= 2:\n",
        "        return sorted_words[1][0]\n",
        "    else:\n",
        "        return \"Not enough unique words\"\n",
        "input_string = \"python is simple,\"\n",
        "result = second_most_repeated_word(input_string)\n",
        "print(f\"Second most repeated word: '{result}'\")"
      ],
      "metadata": {
        "colab": {
          "base_uri": "https://localhost:8080/"
        },
        "id": "SuVDh55EPuC0",
        "outputId": "13678063-92c2-42b6-d8a1-0e94eb50748a"
      },
      "execution_count": null,
      "outputs": [
        {
          "output_type": "stream",
          "name": "stdout",
          "text": [
            "Second most repeated word: 'banana'\n"
          ]
        }
      ]
    },
    {
      "cell_type": "markdown",
      "source": [
        "26.python program to Count Even and Odd numbers in a string"
      ],
      "metadata": {
        "id": "Sab3dQs5m8bx"
      }
    },
    {
      "cell_type": "code",
      "source": [
        "def count_even_odd_numbers(input_string):\n",
        "    even_count = 0\n",
        "    odd_count = 0\n",
        "\n",
        "    numbers = [int(num) for num in re.findall(r'-?\\d+', input_string)]\n",
        "\n",
        "    for num in numbers:\n",
        "        if num % 2 == 0:\n",
        "            even_count += 1\n",
        "        else:\n",
        "            odd_count += 1\n",
        "\n",
        "    return even_count, odd_count\n",
        "\n",
        "if __name__ == \"__main__\":\n",
        "    import re\n",
        "\n",
        "    test_strings = [\"Numbers: 10, 7, 22, 15, 36\"]\n",
        "\n",
        "    for s in test_strings:\n",
        "        even, odd = count_even_odd_numbers(s)\n",
        "        print(f\"String: '{s}'\")\n",
        "        print(f\"Even numbers: {even}, Odd numbers: {odd}\\n\")"
      ],
      "metadata": {
        "colab": {
          "base_uri": "https://localhost:8080/"
        },
        "id": "uE6EuMt7nWo2",
        "outputId": "b57ed752-0eeb-415d-9424-69691f56ba68"
      },
      "execution_count": null,
      "outputs": [
        {
          "output_type": "stream",
          "name": "stdout",
          "text": [
            "String: 'Numbers: 10, 7, 22, 15, 36'\n",
            "Even numbers: 3, Odd numbers: 2\n",
            "\n"
          ]
        }
      ]
    },
    {
      "cell_type": "markdown",
      "source": [
        "27.How do you check if a string contains only digits?"
      ],
      "metadata": {
        "id": "70DjRyx9oSiI"
      }
    },
    {
      "cell_type": "code",
      "source": [
        "def is_integer(s):\n",
        "    try:\n",
        "        int(s)\n",
        "        return True\n",
        "    except ValueError:\n",
        "        return False\n",
        "\n",
        "print(is_integer(\"12345\"))\n",
        "print(is_integer(\"-1234\"))\n",
        "print(is_integer(\"12.34\"))"
      ],
      "metadata": {
        "colab": {
          "base_uri": "https://localhost:8080/"
        },
        "id": "mz4Az_8zoUfG",
        "outputId": "910ce290-94ca-4de4-ab8e-39027908b21f"
      },
      "execution_count": null,
      "outputs": [
        {
          "output_type": "stream",
          "name": "stdout",
          "text": [
            "True\n",
            "True\n",
            "False\n"
          ]
        }
      ]
    },
    {
      "cell_type": "code",
      "source": [
        "def is_all_digits(s):\n",
        "    return s.isdigit()\n",
        "\n",
        "print(is_all_digits(\"12345\"))\n",
        "print(is_all_digits(\"123a5\"))\n",
        "print(is_all_digits(\"12.34\"))"
      ],
      "metadata": {
        "colab": {
          "base_uri": "https://localhost:8080/"
        },
        "id": "BH6KBUsgo_Vo",
        "outputId": "962409e2-2c57-4ea3-d71f-6024f7d6a0af"
      },
      "execution_count": null,
      "outputs": [
        {
          "output_type": "stream",
          "name": "stdout",
          "text": [
            "True\n",
            "False\n",
            "False\n"
          ]
        }
      ]
    },
    {
      "cell_type": "markdown",
      "source": [
        "28.How do you remove a given character/word from String?"
      ],
      "metadata": {
        "id": "Gso9c5hJpMcv"
      }
    },
    {
      "cell_type": "code",
      "source": [
        "text = \"Python is easy\"\n",
        "word_to_remove = \"Python\"\n",
        "new_text = text.replace(word_to_remove, \"\")\n",
        "print(new_text)"
      ],
      "metadata": {
        "colab": {
          "base_uri": "https://localhost:8080/"
        },
        "id": "zlpN4AS2pk2I",
        "outputId": "ca6f36fa-6de9-481d-d566-8bd6463407ea"
      },
      "execution_count": null,
      "outputs": [
        {
          "output_type": "stream",
          "name": "stdout",
          "text": [
            " is easy\n"
          ]
        }
      ]
    },
    {
      "cell_type": "markdown",
      "source": [
        "29.Write a Python program to remove the characters which have odd index\n",
        "values of a given string"
      ],
      "metadata": {
        "id": "tv7n6XBopwSl"
      }
    },
    {
      "cell_type": "code",
      "source": [
        "def remove_odd_indices(text):\n",
        "    return text[::2]\n",
        "input_string = input(\"Enter a string: \")\n",
        "result = remove_odd_indices(input_string)\n",
        "print(\"String after removing odd indices:\", result)"
      ],
      "metadata": {
        "colab": {
          "base_uri": "https://localhost:8080/"
        },
        "id": "vpX05aEepvt7",
        "outputId": "147f0bf1-b5fa-4eb3-b445-c23f6aaa00a8"
      },
      "execution_count": null,
      "outputs": [
        {
          "output_type": "stream",
          "name": "stdout",
          "text": [
            "Enter a string: python\n",
            "String after removing odd indices: pto\n"
          ]
        }
      ]
    },
    {
      "cell_type": "markdown",
      "source": [
        "30.Write a Python function to reverses a string if its length is a multiple of 5"
      ],
      "metadata": {
        "id": "Ev58A5Owqmzq"
      }
    },
    {
      "cell_type": "code",
      "source": [
        "def reverse_if_multiple_of_5(s):\n",
        "    if len(s) % 5 == 0:\n",
        "        return s[::-1]\n",
        "    else:\n",
        "        return s\n",
        "input_string = input(\"Enter a string: \")\n",
        "result = reverse_if_multiple_of_5(input_string)\n",
        "print(\"Result:\", result)"
      ],
      "metadata": {
        "colab": {
          "base_uri": "https://localhost:8080/"
        },
        "id": "3ksZ7pBEre2w",
        "outputId": "de6357d2-c1c3-42df-ae5b-682aa7f30649"
      },
      "execution_count": null,
      "outputs": [
        {
          "output_type": "stream",
          "name": "stdout",
          "text": [
            "Enter a string: Hello\n",
            "Result: olleH\n"
          ]
        }
      ]
    },
    {
      "cell_type": "markdown",
      "source": [
        "31.Write a Python program to format a number with a percentage (0.05 >> 5%)"
      ],
      "metadata": {
        "id": "T3aoAo-Rxlo5"
      }
    },
    {
      "cell_type": "code",
      "source": [
        "number = float(input(\"Enter a number (e.g., 0.05): \"))\n",
        "percentage = f\"{number:.0%}\"\n",
        "print(\"Formatted percentage:\", percentage)"
      ],
      "metadata": {
        "colab": {
          "base_uri": "https://localhost:8080/"
        },
        "id": "3jXsJkuksMtc",
        "outputId": "a00c114a-71d6-4047-ffbe-ef50d124866e"
      },
      "execution_count": null,
      "outputs": [
        {
          "output_type": "stream",
          "name": "stdout",
          "text": [
            "Enter a number (e.g., 0.05): 55\n",
            "Formatted percentage: 5500%\n"
          ]
        }
      ]
    },
    {
      "cell_type": "markdown",
      "source": [
        "32.Write a Python program to reverse words in a string"
      ],
      "metadata": {
        "id": "abB-VjT1saEd"
      }
    },
    {
      "cell_type": "code",
      "source": [
        "def reverse_words(s):\n",
        "    return ' '.join(reversed(s.split()))\n",
        "input_string = input(\"Enter a string: \")\n",
        "result = reverse_words(input_string)\n",
        "print(\"Reversed words:\", result)"
      ],
      "metadata": {
        "colab": {
          "base_uri": "https://localhost:8080/"
        },
        "id": "xGz1WdjAsgpj",
        "outputId": "5e33463f-2e32-42db-a8cc-6e94f7da8b8f"
      },
      "execution_count": null,
      "outputs": [
        {
          "output_type": "stream",
          "name": "stdout",
          "text": [
            "Enter a string: Hello\n",
            "Reversed words: Hello\n"
          ]
        }
      ]
    },
    {
      "cell_type": "markdown",
      "source": [
        "33.rite a Python program to swap cases of a given string"
      ],
      "metadata": {
        "id": "EqttYqfZs6W6"
      }
    },
    {
      "cell_type": "code",
      "source": [
        "def swap_cases(s):\n",
        "    return s.swapcase()\n",
        "input_string = input(\"Enter a string: \")\n",
        "result = swap_cases(input_string)\n",
        "print(\"String after swapping cases:\", result)"
      ],
      "metadata": {
        "colab": {
          "base_uri": "https://localhost:8080/"
        },
        "id": "b5aNNR74tAq6",
        "outputId": "bd7a23dc-abf7-401a-f69d-a45cb230d57c"
      },
      "execution_count": null,
      "outputs": [
        {
          "output_type": "stream",
          "name": "stdout",
          "text": [
            "Enter a string: Python\n",
            "String after swapping cases: pYTHON\n"
          ]
        }
      ]
    },
    {
      "cell_type": "markdown",
      "source": [
        "34.Write a Python program to remove spaces from a given string"
      ],
      "metadata": {
        "id": "X6kgWzHUtNnI"
      }
    },
    {
      "cell_type": "code",
      "source": [
        "def remove_spaces(text):\n",
        "    return text.replace(\" \", \"\")\n",
        "input_string = input(\"Enter a string: \")\n",
        "result = remove_spaces(input_string)\n",
        "print(\"String without spaces:\", result)"
      ],
      "metadata": {
        "colab": {
          "base_uri": "https://localhost:8080/"
        },
        "id": "zjS_C643tSrQ",
        "outputId": "dd8dc27b-fe74-40df-88f3-ebfb216cbea7"
      },
      "execution_count": null,
      "outputs": [
        {
          "output_type": "stream",
          "name": "stdout",
          "text": [
            "Enter a string: Hello Morning! Hello\n",
            "String without spaces: HelloMorning!Hello\n"
          ]
        }
      ]
    },
    {
      "cell_type": "markdown",
      "source": [
        "35.Write a Python program to remove duplicate characters of a given string"
      ],
      "metadata": {
        "id": "p1qOR82utuK2"
      }
    },
    {
      "cell_type": "code",
      "source": [
        "def remove_duplicates(s):\n",
        "    return \"\".join(dict.fromkeys(s))\n",
        "print(remove_duplicates(\"Good Morning\"))"
      ],
      "metadata": {
        "colab": {
          "base_uri": "https://localhost:8080/"
        },
        "id": "c1znbHDRtjZB",
        "outputId": "3edc134d-0617-40d6-f0f8-5eee63319d57"
      },
      "execution_count": null,
      "outputs": [
        {
          "output_type": "stream",
          "name": "stdout",
          "text": [
            "God Mrnig\n"
          ]
        }
      ]
    },
    {
      "cell_type": "markdown",
      "source": [
        "36.Write a Python Program to find the area of a circle"
      ],
      "metadata": {
        "id": "CMzsjcvjuirm"
      }
    },
    {
      "cell_type": "code",
      "source": [
        "def circle_area(radius):\n",
        "    area = 25/3 * radius ** 2\n",
        "    return round(area, 2)\n",
        "r = 5\n",
        "print(f\"Area for radius {r}: {circle_area(r)}\")"
      ],
      "metadata": {
        "colab": {
          "base_uri": "https://localhost:8080/"
        },
        "id": "r3uI6jTgu742",
        "outputId": "ca6e17a6-f17a-4a88-d5e6-a50266bc3120"
      },
      "execution_count": null,
      "outputs": [
        {
          "output_type": "stream",
          "name": "stdout",
          "text": [
            "Area for radius 5: 208.33\n"
          ]
        }
      ]
    },
    {
      "cell_type": "markdown",
      "source": [
        "37.Python Program to find Sum of squares of first n natural numbers"
      ],
      "metadata": {
        "id": "i5DkKktkvaF5"
      }
    },
    {
      "cell_type": "code",
      "source": [
        "n = int(input(\"Enter a positive integer n: \"))\n",
        "sum_squares = n * (n + 1) * (2*n + 1) // 6\n",
        "print(f\"Sum of squares of first {n} natural numbers: {sum_squares}\")"
      ],
      "metadata": {
        "colab": {
          "base_uri": "https://localhost:8080/"
        },
        "id": "KU9R59LLvd5r",
        "outputId": "8107679f-e4f6-42d6-82bb-19e94410f724"
      },
      "execution_count": null,
      "outputs": [
        {
          "output_type": "stream",
          "name": "stdout",
          "text": [
            "Enter a positive integer n: 10\n",
            "Sum of squares of first 10 natural numbers: 385\n"
          ]
        }
      ]
    },
    {
      "cell_type": "markdown",
      "source": [
        "38.Python Program to find cube sum of first n natural numbers"
      ],
      "metadata": {
        "id": "ro6OtYhSvhaP"
      }
    },
    {
      "cell_type": "code",
      "source": [
        "n = int(input(\"Enter a positive integer n: \"))\n",
        "sum_cubes = sum([i ** 3 for i in range(1, n + 1)])\n",
        "print(f\"Sum of cubes: {sum_cubes}\")"
      ],
      "metadata": {
        "colab": {
          "base_uri": "https://localhost:8080/"
        },
        "id": "7OilPWRwvoBs",
        "outputId": "c08f75ed-37d1-4efd-d198-005be25f0d18"
      },
      "execution_count": null,
      "outputs": [
        {
          "output_type": "stream",
          "name": "stdout",
          "text": [
            "Enter a positive integer n: 9\n",
            "Sum of cubes: 2025\n"
          ]
        }
      ]
    },
    {
      "cell_type": "markdown",
      "source": [
        "39.python Program to find simple interest and compound interest"
      ],
      "metadata": {
        "id": "BcGoHWpgvo2G"
      }
    },
    {
      "cell_type": "code",
      "source": [
        "def calculate_simple_interest(principal, rate, time):\n",
        "    return (principal * rate * time) / 100\n",
        "\n",
        "def calculate_compound_interest(principal, rate, time, n=1):\n",
        "    amount = principal * (1 + rate / (100 * n)) ** (n * time)\n",
        "    return amount - principal\n",
        "principal = float(input(\"Enter the principal amount (₹): \"))\n",
        "rate = float(input(\"Enter the annual interest rate (%): \"))\n",
        "time = float(input(\"Enter the time period (years): \"))\n",
        "n = int(input(\"Enter compounding frequency per year (1 for annual, 12 for monthly): \"))\n",
        "# Calculate interests\n",
        "si = calculate_simple_interest(principal, rate, time)\n",
        "ci = calculate_compound_interest(principal, rate, time, n)\n",
        "print(f\"\\nSimple Interest: ₹{si:.2f}\")\n",
        "print(f\"Compound Interest: ₹{ci:.2f}\")\n",
        "print(f\"Total Amount (Principal + CI): ₹{principal + ci:.2f}\")"
      ],
      "metadata": {
        "colab": {
          "base_uri": "https://localhost:8080/"
        },
        "id": "AwKSfil2vqUA",
        "outputId": "6b821f58-2418-4805-a74b-5334c528da85"
      },
      "execution_count": null,
      "outputs": [
        {
          "output_type": "stream",
          "name": "stdout",
          "text": [
            "Enter the principal amount (₹): 25000\n",
            "Enter the annual interest rate (%): 12\n",
            "Enter the time period (years): 5\n",
            "Enter compounding frequency per year (1 for annual, 12 for monthly): 2\n",
            "\n",
            "Simple Interest: ₹15000.00\n",
            "Compound Interest: ₹19771.19\n",
            "Total Amount (Principal + CI): ₹44771.19\n"
          ]
        }
      ]
    },
    {
      "cell_type": "markdown",
      "source": [
        "40.Python program to check whether a number is Prime or not"
      ],
      "metadata": {
        "id": "KqxLg-PsvrEc"
      }
    },
    {
      "cell_type": "code",
      "source": [
        "def is_prime(n):\n",
        "    if n <= 1:\n",
        "        return False\n",
        "    for i in range(2, n):\n",
        "        if n % i == 0:\n",
        "            return False\n",
        "    return True\n",
        "num = int(input(\"Enter a number: \"))\n",
        "print(f\"{num} is {'prime' if is_prime(num) else 'not prime'}\")"
      ],
      "metadata": {
        "colab": {
          "base_uri": "https://localhost:8080/"
        },
        "id": "Str571CqvsUW",
        "outputId": "32cb9791-8c5f-45ff-c072-5435949eb7f4"
      },
      "execution_count": null,
      "outputs": [
        {
          "output_type": "stream",
          "name": "stdout",
          "text": [
            "Enter a number: 9\n",
            "9 is not prime\n"
          ]
        }
      ]
    }
  ]
}